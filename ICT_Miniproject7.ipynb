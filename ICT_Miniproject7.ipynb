{
 "cells": [
  {
   "cell_type": "code",
   "execution_count": 15,
   "metadata": {},
   "outputs": [
    {
     "data": {
      "text/plain": [
       "'C:\\\\Users\\\\ai47\\\\anaconda3\\\\envs\\\\lstm'"
      ]
     },
     "execution_count": 15,
     "metadata": {},
     "output_type": "execute_result"
    }
   ],
   "source": [
    "%env CONDA_PREFIX"
   ]
  },
  {
   "cell_type": "code",
   "execution_count": 16,
   "metadata": {},
   "outputs": [
    {
     "data": {
      "text/plain": [
       "'2.1.0'"
      ]
     },
     "execution_count": 16,
     "metadata": {},
     "output_type": "execute_result"
    }
   ],
   "source": [
    "import tensorflow as tf\n",
    "tf.__version__"
   ]
  },
  {
   "cell_type": "code",
   "execution_count": 17,
   "metadata": {},
   "outputs": [],
   "source": [
    "import warnings\n",
    "warnings.filterwarnings('ignore')"
   ]
  },
  {
   "cell_type": "code",
   "execution_count": 18,
   "metadata": {},
   "outputs": [
    {
     "name": "stdout",
     "output_type": "stream",
     "text": [
      "3.6.10 |Anaconda, Inc.| (default, May  7 2020, 19:46:08) [MSC v.1916 64 bit (AMD64)]\n",
      "2.2.4-tf\n"
     ]
    }
   ],
   "source": [
    "import sys\n",
    "print(sys.version)\n",
    "from tensorflow import keras \n",
    "print(keras.__version__)"
   ]
  },
  {
   "cell_type": "markdown",
   "metadata": {},
   "source": [
    "- Python version 3.6이어야 함."
   ]
  },
  {
   "cell_type": "markdown",
   "metadata": {},
   "source": [
    "# LSTM"
   ]
  },
  {
   "cell_type": "code",
   "execution_count": 19,
   "metadata": {},
   "outputs": [],
   "source": [
    "from tensorflow.keras.datasets import reuters\n",
    "from tensorflow.keras.models import Sequential\n",
    "from tensorflow.keras.layers import Dense, LSTM, Embedding #놓쳤다.\n",
    "from tensorflow.keras.utils import to_categorical\n",
    "from tensorflow.keras.callbacks import ModelCheckpoint, EarlyStopping\n",
    "from tensorflow.keras.preprocessing import sequence\n",
    "\n",
    "import tensorflow as tf\n",
    "import numpy as np\n",
    "import matplotlib.pyplot as plt\n",
    "import sys\n",
    "import os"
   ]
  },
  {
   "cell_type": "code",
   "execution_count": 20,
   "metadata": {},
   "outputs": [
    {
     "name": "stdout",
     "output_type": "stream",
     "text": [
      "46 카테고리\n",
      "8982 학습용 뉴스 기사\n",
      "2246 테스트용 뉴스 기사\n",
      "[1, 2, 2, 8, 43, 10, 447, 5, 25, 207, 270, 5, 2, 111, 16, 369, 186, 90, 67, 7, 89, 5, 19, 102, 6, 19, 124, 15, 90, 67, 84, 22, 482, 26, 7, 48, 4, 49, 8, 864, 39, 209, 154, 6, 151, 6, 83, 11, 15, 22, 155, 11, 15, 7, 48, 9, 2, 2, 504, 6, 258, 6, 272, 11, 15, 22, 134, 44, 11, 15, 16, 8, 197, 2, 90, 67, 52, 29, 209, 30, 32, 132, 6, 109, 15, 17, 12]\n",
      "87\n"
     ]
    }
   ],
   "source": [
    "# data 불러오기\n",
    "(X_train, Y_train), (X_test, Y_test) = reuters.load_data(num_words=1000, test_split=0.2)\n",
    "\n",
    "# 데이터 확인\n",
    "category = np.max(Y_train) + 1\n",
    "print(category, '카테고리')\n",
    "print(len(X_train), '학습용 뉴스 기사')\n",
    "print(len(X_test), '테스트용 뉴스 기사')\n",
    "print( X_train[0] )\n",
    "print( len(X_train[0]) )"
   ]
  },
  {
   "cell_type": "code",
   "execution_count": 21,
   "metadata": {},
   "outputs": [
    {
     "name": "stdout",
     "output_type": "stream",
     "text": [
      "87\n",
      "100\n",
      "(8982, 46) (2246, 46)\n"
     ]
    }
   ],
   "source": [
    "# 데이터 전처리\n",
    "x_train = sequence.pad_sequences(X_train, maxlen=100)\n",
    "x_test = sequence.pad_sequences(X_test, maxlen=100)\n",
    "print( len(X_train[0]) )\n",
    "print( len(x_train[0]) )\n",
    "\n",
    "y_train = to_categorical(Y_train)\n",
    "y_test = to_categorical(Y_test)\n",
    "print(y_train.shape, y_test.shape)"
   ]
  },
  {
   "cell_type": "code",
   "execution_count": 22,
   "metadata": {},
   "outputs": [
    {
     "data": {
      "text/plain": [
       "array([  0,   0,   0,   0,   0,   0,   0,   0,   0,   0,   0,   0,   0,\n",
       "         1,   2,   2,   8,  43,  10, 447,   5,  25, 207, 270,   5,   2,\n",
       "       111,  16, 369, 186,  90,  67,   7,  89,   5,  19, 102,   6,  19,\n",
       "       124,  15,  90,  67,  84,  22, 482,  26,   7,  48,   4,  49,   8,\n",
       "       864,  39, 209, 154,   6, 151,   6,  83,  11,  15,  22, 155,  11,\n",
       "        15,   7,  48,   9,   2,   2, 504,   6, 258,   6, 272,  11,  15,\n",
       "        22, 134,  44,  11,  15,  16,   8, 197,   2,  90,  67,  52,  29,\n",
       "       209,  30,  32, 132,   6, 109,  15,  17,  12])"
      ]
     },
     "execution_count": 22,
     "metadata": {},
     "output_type": "execute_result"
    }
   ],
   "source": [
    "x_train[0]"
   ]
  },
  {
   "cell_type": "code",
   "execution_count": 23,
   "metadata": {},
   "outputs": [
    {
     "data": {
      "text/plain": [
       "array([0., 0., 0., 1., 0., 0., 0., 0., 0., 0., 0., 0., 0., 0., 0., 0., 0.,\n",
       "       0., 0., 0., 0., 0., 0., 0., 0., 0., 0., 0., 0., 0., 0., 0., 0., 0.,\n",
       "       0., 0., 0., 0., 0., 0., 0., 0., 0., 0., 0., 0.], dtype=float32)"
      ]
     },
     "execution_count": 23,
     "metadata": {},
     "output_type": "execute_result"
    }
   ],
   "source": [
    "y_train[0]"
   ]
  },
  {
   "cell_type": "code",
   "execution_count": 24,
   "metadata": {},
   "outputs": [
    {
     "data": {
      "text/plain": [
       "array([  5,   2,   7, 748,  48,   9,   2,   7, 207,   2, 966,   2, 793,\n",
       "        97, 133, 336,   7,   4, 493,  98, 273, 104, 284,  25,  39, 338,\n",
       "        22, 905, 220,   2, 644,  59,  20,   6, 119,  61,  11,  15,  58,\n",
       "       579,  26,  10,  67,   7,   4, 738,  98,  43,  88, 333, 722,  12,\n",
       "        20,   6,  19, 746,  35,  15,  10,   9,   2, 855, 129, 783,  21,\n",
       "         4,   2, 244, 364,  51,  16, 299, 452,  16, 515,   4,  99,  29,\n",
       "         5,   4, 364, 281,  48,  10,   9,   2,  23, 644,  47,  20, 324,\n",
       "        27,  56,   2,   2,   5, 192, 510,  17,  12])"
      ]
     },
     "execution_count": 24,
     "metadata": {},
     "output_type": "execute_result"
    }
   ],
   "source": [
    "x_test[0]"
   ]
  },
  {
   "cell_type": "code",
   "execution_count": 25,
   "metadata": {},
   "outputs": [
    {
     "data": {
      "text/plain": [
       "array([0., 0., 0., 1., 0., 0., 0., 0., 0., 0., 0., 0., 0., 0., 0., 0., 0.,\n",
       "       0., 0., 0., 0., 0., 0., 0., 0., 0., 0., 0., 0., 0., 0., 0., 0., 0.,\n",
       "       0., 0., 0., 0., 0., 0., 0., 0., 0., 0., 0., 0.], dtype=float32)"
      ]
     },
     "execution_count": 25,
     "metadata": {},
     "output_type": "execute_result"
    }
   ],
   "source": [
    "y_test[0]"
   ]
  },
  {
   "cell_type": "code",
   "execution_count": 26,
   "metadata": {},
   "outputs": [],
   "source": [
    "#adam optimizer\n",
    "seed=0\n",
    "np.random.seed(seed)\n",
    "tf.compat.v1.set_random_seed(seed)\n",
    "\n",
    "# 모델의 설정\n",
    "model = Sequential()\n",
    "model.add( Embedding(1000, 100))\n",
    "model.add( LSTM(100, activation='tanh'))\n",
    "model.add( Dense(46, activation='softmax')  )\n",
    "\n",
    "# 모델 컴파일\n",
    "model.compile(loss='categorical_crossentropy', optimizer='adam',\n",
    "             metrics=['accuracy'])"
   ]
  },
  {
   "cell_type": "code",
   "execution_count": 28,
   "metadata": {
    "scrolled": true
   },
   "outputs": [
    {
     "name": "stdout",
     "output_type": "stream",
     "text": [
      "Train on 8982 samples, validate on 2246 samples\n",
      "Epoch 1/30\n",
      "8982/8982 [==============================] - 13s 1ms/sample - loss: 2.6134 - accuracy: 0.3426 - val_loss: 2.4030 - val_accuracy: 0.3620\n",
      "Epoch 2/30\n",
      "8982/8982 [==============================] - 11s 1ms/sample - loss: 2.1107 - accuracy: 0.4690 - val_loss: 2.0097 - val_accuracy: 0.5049\n",
      "Epoch 3/30\n",
      "8982/8982 [==============================] - 10s 1ms/sample - loss: 1.9940 - accuracy: 0.5066 - val_loss: 2.0075 - val_accuracy: 0.5107\n",
      "Epoch 4/30\n",
      "8982/8982 [==============================] - 10s 1ms/sample - loss: 1.8306 - accuracy: 0.5405 - val_loss: 1.7540 - val_accuracy: 0.5606\n",
      "Epoch 5/30\n",
      "8982/8982 [==============================] - 11s 1ms/sample - loss: 1.6833 - accuracy: 0.5729 - val_loss: 1.6953 - val_accuracy: 0.5739\n",
      "Epoch 6/30\n",
      "8982/8982 [==============================] - 10s 1ms/sample - loss: 1.7340 - accuracy: 0.5573 - val_loss: 1.7603 - val_accuracy: 0.5352\n",
      "Epoch 7/30\n",
      "8982/8982 [==============================] - 10s 1ms/sample - loss: 1.6472 - accuracy: 0.5775 - val_loss: 1.6576 - val_accuracy: 0.5712\n",
      "Epoch 8/30\n",
      "8982/8982 [==============================] - 12s 1ms/sample - loss: 1.5744 - accuracy: 0.6016 - val_loss: 1.6140 - val_accuracy: 0.5971\n",
      "Epoch 9/30\n",
      "8982/8982 [==============================] - 12s 1ms/sample - loss: 1.4914 - accuracy: 0.6253 - val_loss: 1.5853 - val_accuracy: 0.5975\n",
      "Epoch 10/30\n",
      "8982/8982 [==============================] - 11s 1ms/sample - loss: 1.4223 - accuracy: 0.6427 - val_loss: 1.4842 - val_accuracy: 0.6340\n",
      "Epoch 11/30\n",
      "8982/8982 [==============================] - 12s 1ms/sample - loss: 1.3469 - accuracy: 0.6597 - val_loss: 1.4928 - val_accuracy: 0.6278\n",
      "Epoch 12/30\n",
      "8982/8982 [==============================] - 11s 1ms/sample - loss: 1.3001 - accuracy: 0.6687 - val_loss: 1.4050 - val_accuracy: 0.6514\n",
      "Epoch 13/30\n",
      "8982/8982 [==============================] - 12s 1ms/sample - loss: 1.2137 - accuracy: 0.6945 - val_loss: 1.3404 - val_accuracy: 0.6670\n",
      "Epoch 14/30\n",
      "8982/8982 [==============================] - 12s 1ms/sample - loss: 1.1638 - accuracy: 0.7055 - val_loss: 1.3072 - val_accuracy: 0.6714\n",
      "Epoch 15/30\n",
      "8982/8982 [==============================] - 12s 1ms/sample - loss: 1.1083 - accuracy: 0.7142 - val_loss: 1.2880 - val_accuracy: 0.6794\n",
      "Epoch 16/30\n",
      "8982/8982 [==============================] - 12s 1ms/sample - loss: 1.0632 - accuracy: 0.7281 - val_loss: 1.2399 - val_accuracy: 0.6861\n",
      "Epoch 17/30\n",
      "8982/8982 [==============================] - 12s 1ms/sample - loss: 1.0177 - accuracy: 0.7433 - val_loss: 1.2180 - val_accuracy: 0.6866\n",
      "Epoch 18/30\n",
      "8982/8982 [==============================] - 12s 1ms/sample - loss: 0.9725 - accuracy: 0.7501 - val_loss: 1.2139 - val_accuracy: 0.6959\n",
      "Epoch 19/30\n",
      "8982/8982 [==============================] - 12s 1ms/sample - loss: 0.9337 - accuracy: 0.7644 - val_loss: 1.1988 - val_accuracy: 0.6923\n",
      "Epoch 20/30\n",
      "8982/8982 [==============================] - 12s 1ms/sample - loss: 0.8937 - accuracy: 0.7715 - val_loss: 1.1809 - val_accuracy: 0.7039\n",
      "Epoch 21/30\n",
      "8982/8982 [==============================] - 11s 1ms/sample - loss: 0.8743 - accuracy: 0.7796 - val_loss: 1.1738 - val_accuracy: 0.7088\n",
      "Epoch 22/30\n",
      "8982/8982 [==============================] - 11s 1ms/sample - loss: 0.8304 - accuracy: 0.7887 - val_loss: 1.1610 - val_accuracy: 0.7093\n",
      "Epoch 23/30\n",
      "8982/8982 [==============================] - 11s 1ms/sample - loss: 0.7960 - accuracy: 0.7989 - val_loss: 1.1484 - val_accuracy: 0.7128\n",
      "Epoch 24/30\n",
      "8982/8982 [==============================] - 11s 1ms/sample - loss: 0.7571 - accuracy: 0.8128 - val_loss: 1.1561 - val_accuracy: 0.7164\n",
      "Epoch 25/30\n",
      "8982/8982 [==============================] - 11s 1ms/sample - loss: 0.7201 - accuracy: 0.8180 - val_loss: 1.1750 - val_accuracy: 0.7226\n",
      "Epoch 26/30\n",
      "8982/8982 [==============================] - 11s 1ms/sample - loss: 0.6995 - accuracy: 0.8204 - val_loss: 1.1932 - val_accuracy: 0.7146\n",
      "Epoch 27/30\n",
      "8982/8982 [==============================] - 12s 1ms/sample - loss: 0.6590 - accuracy: 0.8360 - val_loss: 1.1975 - val_accuracy: 0.7262\n",
      "Epoch 28/30\n",
      "8982/8982 [==============================] - 11s 1ms/sample - loss: 0.6441 - accuracy: 0.8352 - val_loss: 1.1843 - val_accuracy: 0.7253\n",
      "Epoch 29/30\n",
      "8982/8982 [==============================] - 11s 1ms/sample - loss: 0.6042 - accuracy: 0.8465 - val_loss: 1.1873 - val_accuracy: 0.7199\n",
      "Epoch 30/30\n",
      "8982/8982 [==============================] - 11s 1ms/sample - loss: 0.5844 - accuracy: 0.8511 - val_loss: 1.1991 - val_accuracy: 0.7262\n"
     ]
    }
   ],
   "source": [
    "# 모델 학습\n",
    "train_history = model.fit(x_train, y_train, batch_size=100,\n",
    "                         epochs=30, validation_data=(x_test, y_test))"
   ]
  },
  {
   "cell_type": "code",
   "execution_count": 29,
   "metadata": {},
   "outputs": [
    {
     "name": "stdout",
     "output_type": "stream",
     "text": [
      "8982/8982 [==============================] - 6s 613us/sample - loss: 0.5393 - accuracy: 0.8656\n",
      "Train accuracy: 0.8656\n"
     ]
    }
   ],
   "source": [
    "# 학습셋 정확도 \n",
    "print('Train accuracy: %.4f' % (model.evaluate(x_train, y_train)[1]))"
   ]
  },
  {
   "cell_type": "code",
   "execution_count": 30,
   "metadata": {},
   "outputs": [
    {
     "name": "stdout",
     "output_type": "stream",
     "text": [
      "2246/2246 [==============================] - 1s 604us/sample - loss: 1.1991 - accuracy: 0.7262\n",
      "Test accuracy: 0.7262\n"
     ]
    }
   ],
   "source": [
    "# 테스트셋 정확도 \n",
    "print('Test accuracy: %.4f' % (model.evaluate(x_test, y_test)[1]))"
   ]
  },
  {
   "cell_type": "code",
   "execution_count": 31,
   "metadata": {},
   "outputs": [
    {
     "data": {
      "image/png": "[encoded data removed]",
      "text/plain": [
       "<Figure size 432x288 with 1 Axes>"
      ]
     },
     "metadata": {
      "needs_background": "light"
     },
     "output_type": "display_data"
    }
   ],
   "source": [
    "# 오차 비교\n",
    "vloss = train_history.history['val_loss']\n",
    "loss = train_history.history['loss']\n",
    "\n",
    "x_len = np.arange(len(loss))\n",
    "plt.plot(x_len, vloss, marker='.', c='red', label='Testset_loss')\n",
    "plt.plot(x_len, loss, marker='.', c='blue', label='Trainset_loss')\n",
    "\n",
    "plt.legend(loc='best')\n",
    "plt.grid()\n",
    "plt.xlabel('epoch')\n",
    "plt.ylabel('loss')\n",
    "plt.show()"
   ]
  },
  {
   "cell_type": "code",
   "execution_count": 32,
   "metadata": {},
   "outputs": [
    {
     "data": {
      "image/png": "[encoded data removed]",
      "text/plain": [
       "<Figure size 432x288 with 1 Axes>"
      ]
     },
     "metadata": {
      "needs_background": "light"
     },
     "output_type": "display_data"
    }
   ],
   "source": [
    "# 정확도\n",
    "vacc = train_history.history['val_accuracy']\n",
    "acc = train_history.history['accuracy']\n",
    "\n",
    "x_len = np.arange(len(acc))\n",
    "plt.plot(x_len, vacc, marker='.', c='red', label='Testset_accuracy')\n",
    "plt.plot(x_len, acc, marker='.', c='blue', label='Trainset_accuracy')\n",
    "\n",
    "plt.legend(loc='best')\n",
    "plt.grid()\n",
    "plt.xlabel('epoch')\n",
    "plt.ylabel('accuracy')\n",
    "plt.show()"
   ]
  },
  {
   "cell_type": "code",
   "execution_count": null,
   "metadata": {},
   "outputs": [],
   "source": []
  },
  {
   "cell_type": "code",
   "execution_count": null,
   "metadata": {},
   "outputs": [],
   "source": []
  },
  {
   "cell_type": "code",
   "execution_count": null,
   "metadata": {},
   "outputs": [],
   "source": []
  },
  {
   "cell_type": "code",
   "execution_count": null,
   "metadata": {},
   "outputs": [],
   "source": []
  },
  {
   "cell_type": "code",
   "execution_count": null,
   "metadata": {},
   "outputs": [],
   "source": []
  }
 ],
 "metadata": {
  "kernelspec": {
   "display_name": "Python 3",
   "language": "python",
   "name": "python3"
  },
  "language_info": {
   "codemirror_mode": {
    "name": "ipython",
    "version": 3
   },
   "file_extension": ".py",
   "mimetype": "text/x-python",
   "name": "python",
   "nbconvert_exporter": "python",
   "pygments_lexer": "ipython3",
   "version": "3.6.10"
  }
 },
 "nbformat": 4,
 "nbformat_minor": 4
}
